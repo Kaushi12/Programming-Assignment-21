{
 "cells": [
  {
   "cell_type": "code",
   "execution_count": 1,
   "id": "3b793497",
   "metadata": {},
   "outputs": [],
   "source": [
    "def next_in_line(l,x):\n",
    "    l.pop(0)\n",
    "    l.append(x)\n",
    "    return l\n",
    "    "
   ]
  },
  {
   "cell_type": "code",
   "execution_count": 2,
   "id": "58f0a363",
   "metadata": {},
   "outputs": [
    {
     "data": {
      "text/plain": [
       "[6, 7, 8, 9, 1]"
      ]
     },
     "execution_count": 2,
     "metadata": {},
     "output_type": "execute_result"
    }
   ],
   "source": [
    "next_in_line([5,6,7,8,9],1)"
   ]
  },
  {
   "cell_type": "code",
   "execution_count": 14,
   "id": "73667a42",
   "metadata": {},
   "outputs": [],
   "source": [
    "def get_budgets(l1):\n",
    "    add=0\n",
    "    for i in l1:\n",
    "        k=i.get(\"budget\")\n",
    "        add=add+k\n",
    "    return add\n",
    "                "
   ]
  },
  {
   "cell_type": "code",
   "execution_count": 15,
   "id": "9e67728b",
   "metadata": {},
   "outputs": [
    {
     "data": {
      "text/plain": [
       "65700"
      ]
     },
     "execution_count": 15,
     "metadata": {},
     "output_type": "execute_result"
    }
   ],
   "source": [
    "get_budgets([\n",
    "{ \"name\":\"John\",\"age\": 21,\"budget\": 23000 },\n",
    "{\"name\":\"Steve\",\"age\": 32,\"budget\": 40000 },\n",
    "{\"name\":\"Martin\",\"age\": 16,\"budget\": 2700 }\n",
    "])"
   ]
  },
  {
   "cell_type": "code",
   "execution_count": 20,
   "id": "ccabf8d6",
   "metadata": {},
   "outputs": [],
   "source": [
    "def alphabet_soup(str):\n",
    "    return ''.join(sorted(str))"
   ]
  },
  {
   "cell_type": "code",
   "execution_count": 22,
   "id": "1c290cb1",
   "metadata": {},
   "outputs": [
    {
     "data": {
      "text/plain": [
       "'ehllo'"
      ]
     },
     "execution_count": 22,
     "metadata": {},
     "output_type": "execute_result"
    }
   ],
   "source": [
    "alphabet_soup(\"hello\")"
   ]
  },
  {
   "cell_type": "code",
   "execution_count": 28,
   "id": "c6d06a22",
   "metadata": {},
   "outputs": [],
   "source": [
    "def compound_interest(p,t,r,n):\n",
    "    k=1+r/n\n",
    "    po=n*t\n",
    "    x=pow(k,po)\n",
    "    amount=\"{:.2f}\".format(p*x)\n",
    "    return float(amount)"
   ]
  },
  {
   "cell_type": "code",
   "execution_count": 29,
   "id": "afed601a",
   "metadata": {},
   "outputs": [
    {
     "data": {
      "text/plain": [
       "15399.26"
      ]
     },
     "execution_count": 29,
     "metadata": {},
     "output_type": "execute_result"
    }
   ],
   "source": [
    "compound_interest(3500,15,0.1,4)"
   ]
  },
  {
   "cell_type": "code",
   "execution_count": 30,
   "id": "0662afd6",
   "metadata": {},
   "outputs": [],
   "source": [
    "def return_only_integer(lis):\n",
    "    l1=[]\n",
    "    for i in lis:\n",
    "        if type(i)==int:\n",
    "            l1.append(i)\n",
    "    return l1"
   ]
  },
  {
   "cell_type": "code",
   "execution_count": 31,
   "id": "23dea7e0",
   "metadata": {},
   "outputs": [
    {
     "data": {
      "text/plain": [
       "[1, 4, 5]"
      ]
     },
     "execution_count": 31,
     "metadata": {},
     "output_type": "execute_result"
    }
   ],
   "source": [
    "return_only_integer([1,\"a\",\"b\",4,5,\"c\"])"
   ]
  },
  {
   "cell_type": "code",
   "execution_count": null,
   "id": "712c1603",
   "metadata": {},
   "outputs": [],
   "source": []
  }
 ],
 "metadata": {
  "kernelspec": {
   "display_name": "Python 3",
   "language": "python",
   "name": "python3"
  },
  "language_info": {
   "codemirror_mode": {
    "name": "ipython",
    "version": 3
   },
   "file_extension": ".py",
   "mimetype": "text/x-python",
   "name": "python",
   "nbconvert_exporter": "python",
   "pygments_lexer": "ipython3",
   "version": "3.8.8"
  }
 },
 "nbformat": 4,
 "nbformat_minor": 5
}
